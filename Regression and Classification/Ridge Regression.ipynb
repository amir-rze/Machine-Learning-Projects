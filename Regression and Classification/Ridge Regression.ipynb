{
  "nbformat": 4,
  "nbformat_minor": 0,
  "metadata": {
    "colab": {
      "provenance": []
    },
    "kernelspec": {
      "name": "python3",
      "display_name": "Python 3"
    },
    "language_info": {
      "name": "python"
    }
  },
  "cells": [
    {
      "cell_type": "code",
      "execution_count": 34,
      "metadata": {
        "colab": {
          "base_uri": "https://localhost:8080/"
        },
        "id": "12wMA1n2t4-H",
        "outputId": "a61ef4e7-1f26-406e-f477-922cbde3083d"
      },
      "outputs": [
        {
          "output_type": "stream",
          "name": "stdout",
          "text": [
            "0.07856869845782644\n"
          ]
        }
      ],
      "source": [
        "import numpy as np\n",
        "\n",
        "random_integers = np.random.randint(2, 100, 200)\n",
        "\n",
        "# Reshape the array to a 2D array with 100 rows and 2 columns\n",
        "x = random_integers.reshape(100, 2)\n",
        "x1 = x[:, 0]\n",
        "x2 = x[:, 1]\n",
        "random_number = np.random.rand()\n",
        "y = 3 + 2*x1 - 4*x2 + 5.64*x1**2 + 0*x1*x2 + 0*x2**2 + random_number\n",
        "print(random_number)"
      ]
    },
    {
      "cell_type": "code",
      "source": [
        "def ridge_regression(alpha , X,y):\n",
        "  dimension = X.shape[1]\n",
        "  A = np.identity(dimension)\n",
        "  A[0,0] = 0\n",
        "  t = np.linalg.inv(X.T.dot(X) + alpha * A).dot(X.T).dot(y)\n",
        "  return t "
      ],
      "metadata": {
        "id": "imJrv1dnLIFV"
      },
      "execution_count": 38,
      "outputs": []
    },
    {
      "cell_type": "code",
      "source": [
        "from sklearn.linear_model import Ridge\n",
        "from sklearn.preprocessing import PolynomialFeatures\n",
        "import numpy as np\n",
        "alpha = 1\n",
        "X = PolynomialFeatures(degree=2).fit_transform(x)\n",
        "\n",
        "print(ridge_regression(alpha,X,y))\n"
      ],
      "metadata": {
        "colab": {
          "base_uri": "https://localhost:8080/"
        },
        "id": "6A4dUTggytIu",
        "outputId": "5134b8b5-4858-4883-f553-b6eab2bb8b62"
      },
      "execution_count": 39,
      "outputs": [
        {
          "output_type": "stream",
          "name": "stdout",
          "text": [
            "[ 3.06104241e+00  1.99977272e+00 -3.99899333e+00  5.64000286e+00\n",
            " -1.51148052e-06 -8.53548553e-06]\n"
          ]
        }
      ]
    },
    {
      "cell_type": "markdown",
      "source": [
        "الف)"
      ],
      "metadata": {
        "id": "iL9Zsba-N-At"
      }
    },
    {
      "cell_type": "code",
      "source": [
        "from sklearn.linear_model import LinearRegression\n",
        "\n",
        "alpha = 0\n",
        "print(ridge_regression(alpha,X,y))"
      ],
      "metadata": {
        "colab": {
          "base_uri": "https://localhost:8080/"
        },
        "id": "j2lbbznZ31yH",
        "outputId": "020cd634-6d18-4cce-b433-c4ac637f4f3f"
      },
      "execution_count": 40,
      "outputs": [
        {
          "output_type": "stream",
          "name": "stdout",
          "text": [
            "[ 3.07856870e+00  2.00000000e+00 -4.00000000e+00  5.64000000e+00\n",
            " -1.17683641e-14  1.07691633e-14]\n"
          ]
        }
      ]
    },
    {
      "cell_type": "markdown",
      "source": [
        "ب) هرچه آلفا کوچکتر دقت پیشبینی ضرایب بیشتر"
      ],
      "metadata": {
        "id": "soO2UI_MS9iI"
      }
    },
    {
      "cell_type": "code",
      "source": [
        "\n",
        "print(\"alpha = 0.01 \")\n",
        "print(ridge_regression(0.01,X,y),\"\\n\\n\")\n",
        "print(\"alpha = 1 \")\n",
        "print(ridge_regression(1,X,y),\"\\n\\n\")\n",
        "print(\"alpha = 10 \")\n",
        "print(ridge_regression(10,X,y),\"\\n\\n\")\n",
        "\n",
        "\n"
      ],
      "metadata": {
        "colab": {
          "base_uri": "https://localhost:8080/"
        },
        "id": "H7eip-UC4kA1",
        "outputId": "f8263093-7d8f-4e7b-f8fd-7d36b5b37848"
      },
      "execution_count": 44,
      "outputs": [
        {
          "output_type": "stream",
          "name": "stdout",
          "text": [
            "alpha = 0.01 \n",
            "[ 3.07839337e+00  1.99999773e+00 -3.99998993e+00  5.64000003e+00\n",
            " -1.51226742e-08 -8.53769121e-08] \n",
            "\n",
            "\n",
            "alpha = 1 \n",
            "[ 3.06104241e+00  1.99977272e+00 -3.99899333e+00  5.64000286e+00\n",
            " -1.51148052e-06 -8.53548553e-06] \n",
            "\n",
            "\n",
            "alpha = 10 \n",
            "[ 2.90390984e+00  1.99772476e+00 -3.98995849e+00  5.64002856e+00\n",
            " -1.50444769e-05 -8.51556301e-05] \n",
            "\n",
            "\n"
          ]
        }
      ]
    },
    {
      "cell_type": "markdown",
      "source": [
        "ج) همچنان هرچه آلفا کوچکتر دقت پیشبینی بیشتر و اینکه در این حالت ضریب ثابت را به درستی نتوانسته پیشبینی کند. "
      ],
      "metadata": {
        "id": "ZPaLGa4dVDLO"
      }
    },
    {
      "cell_type": "code",
      "source": [
        "from sklearn.linear_model import Lasso\n",
        "\n",
        "alphas = [0.01, 1.0, 10.0] # Regularization parameters\n",
        "for alpha in alphas:\n",
        "    lasso = Lasso(alpha=alpha)\n",
        "    lasso.fit(X,y)\n",
        "    print(\"alpha = {:.2f}, Coefficients : {}\".format(alpha, lasso.coef_))\n",
        "    print(\"\\n\\n\")"
      ],
      "metadata": {
        "colab": {
          "base_uri": "https://localhost:8080/"
        },
        "id": "iGfoADFp5IhE",
        "outputId": "03b1f99e-d30b-418d-f49a-1784106b92e9"
      },
      "execution_count": 45,
      "outputs": [
        {
          "output_type": "stream",
          "name": "stdout",
          "text": [
            "alpha = 0.01, Coefficients : [ 0.00000000e+00  2.01311049e+00 -3.98779739e+00  5.63991104e+00\n",
            " -7.41802964e-05 -7.95698661e-05]\n",
            "\n",
            "\n",
            "\n",
            "alpha = 1.00, Coefficients : [ 0.00000000e+00  1.99132279e+00 -3.96823822e+00  5.64009959e+00\n",
            " -3.50939984e-05 -2.74665326e-04]\n",
            "\n",
            "\n",
            "\n",
            "alpha = 10.00, Coefficients : [ 0.00000000e+00  1.79694266e+00 -3.78762987e+00  5.64179925e+00\n",
            "  2.77309483e-04 -2.05469706e-03]\n",
            "\n",
            "\n",
            "\n"
          ]
        }
      ]
    }
  ]
}