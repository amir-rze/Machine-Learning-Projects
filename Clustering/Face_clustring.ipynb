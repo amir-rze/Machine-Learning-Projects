{
  "cells": [
    {
      "cell_type": "markdown",
      "metadata": {
        "id": "4ArmZftGYXbo"
      },
      "source": [
        "# **Install**"
      ]
    },
    {
      "cell_type": "code",
      "execution_count": 2,
      "metadata": {
        "id": "PrKceM7uCMqD",
        "colab": {
          "base_uri": "https://localhost:8080/"
        },
        "outputId": "b0ef78e1-35fb-4b89-bb1e-a022c14f4741"
      },
      "outputs": [
        {
          "output_type": "stream",
          "name": "stdout",
          "text": [
            "Looking in indexes: https://pypi.org/simple, https://us-python.pkg.dev/colab-wheels/public/simple/\n",
            "Requirement already satisfied: gdown in /usr/local/lib/python3.10/dist-packages (4.6.6)\n",
            "Requirement already satisfied: filelock in /usr/local/lib/python3.10/dist-packages (from gdown) (3.12.0)\n",
            "Requirement already satisfied: requests[socks] in /usr/local/lib/python3.10/dist-packages (from gdown) (2.27.1)\n",
            "Requirement already satisfied: six in /usr/local/lib/python3.10/dist-packages (from gdown) (1.16.0)\n",
            "Requirement already satisfied: tqdm in /usr/local/lib/python3.10/dist-packages (from gdown) (4.65.0)\n",
            "Requirement already satisfied: beautifulsoup4 in /usr/local/lib/python3.10/dist-packages (from gdown) (4.11.2)\n",
            "Requirement already satisfied: soupsieve>1.2 in /usr/local/lib/python3.10/dist-packages (from beautifulsoup4->gdown) (2.4.1)\n",
            "Requirement already satisfied: urllib3<1.27,>=1.21.1 in /usr/local/lib/python3.10/dist-packages (from requests[socks]->gdown) (1.26.15)\n",
            "Requirement already satisfied: certifi>=2017.4.17 in /usr/local/lib/python3.10/dist-packages (from requests[socks]->gdown) (2022.12.7)\n",
            "Requirement already satisfied: charset-normalizer~=2.0.0 in /usr/local/lib/python3.10/dist-packages (from requests[socks]->gdown) (2.0.12)\n",
            "Requirement already satisfied: idna<4,>=2.5 in /usr/local/lib/python3.10/dist-packages (from requests[socks]->gdown) (3.4)\n",
            "Requirement already satisfied: PySocks!=1.5.7,>=1.5.6 in /usr/local/lib/python3.10/dist-packages (from requests[socks]->gdown) (1.7.1)\n",
            "Looking in indexes: https://pypi.org/simple, https://us-python.pkg.dev/colab-wheels/public/simple/\n",
            "Requirement already satisfied: gdown in /usr/local/lib/python3.10/dist-packages (4.6.6)\n",
            "Collecting gdown\n",
            "  Downloading gdown-4.7.1-py3-none-any.whl (15 kB)\n",
            "Requirement already satisfied: filelock in /usr/local/lib/python3.10/dist-packages (from gdown) (3.12.0)\n",
            "Requirement already satisfied: requests[socks] in /usr/local/lib/python3.10/dist-packages (from gdown) (2.27.1)\n",
            "Requirement already satisfied: six in /usr/local/lib/python3.10/dist-packages (from gdown) (1.16.0)\n",
            "Requirement already satisfied: tqdm in /usr/local/lib/python3.10/dist-packages (from gdown) (4.65.0)\n",
            "Requirement already satisfied: beautifulsoup4 in /usr/local/lib/python3.10/dist-packages (from gdown) (4.11.2)\n",
            "Requirement already satisfied: soupsieve>1.2 in /usr/local/lib/python3.10/dist-packages (from beautifulsoup4->gdown) (2.4.1)\n",
            "Requirement already satisfied: urllib3<1.27,>=1.21.1 in /usr/local/lib/python3.10/dist-packages (from requests[socks]->gdown) (1.26.15)\n",
            "Requirement already satisfied: certifi>=2017.4.17 in /usr/local/lib/python3.10/dist-packages (from requests[socks]->gdown) (2022.12.7)\n",
            "Requirement already satisfied: charset-normalizer~=2.0.0 in /usr/local/lib/python3.10/dist-packages (from requests[socks]->gdown) (2.0.12)\n",
            "Requirement already satisfied: idna<4,>=2.5 in /usr/local/lib/python3.10/dist-packages (from requests[socks]->gdown) (3.4)\n",
            "Requirement already satisfied: PySocks!=1.5.7,>=1.5.6 in /usr/local/lib/python3.10/dist-packages (from requests[socks]->gdown) (1.7.1)\n",
            "Installing collected packages: gdown\n",
            "  Attempting uninstall: gdown\n",
            "    Found existing installation: gdown 4.6.6\n",
            "    Uninstalling gdown-4.6.6:\n",
            "      Successfully uninstalled gdown-4.6.6\n",
            "Successfully installed gdown-4.7.1\n"
          ]
        }
      ],
      "source": [
        "from time import time\n",
        "import numpy as np\n",
        "from copy import deepcopy\n",
        "!pip install gdown\n",
        "!pip install --upgrade gdown\n",
        "import pickle\n",
        "from sklearn.metrics.cluster import normalized_mutual_info_score"
      ]
    },
    {
      "cell_type": "code",
      "execution_count": 3,
      "metadata": {
        "id": "iuJ4qd0WPpdU"
      },
      "outputs": [],
      "source": [
        "def F_score(yhat,y):\n",
        "  P_index=[]\n",
        "  for i in range(len(yhat)):\n",
        "    # print(yhat[i],i)\n",
        "    for j in range(len(yhat)):\n",
        "      if(yhat[i]==yhat[j]):\n",
        "        if(i!=j):\n",
        "          if(not [i,j] in P_index and not [j,i] in P_index):\n",
        "            P_index.append([i,j])\n",
        "    \n",
        "\n",
        "\n",
        "  Q_index=[]\n",
        "  for i in range(len(y)):\n",
        "    # print(y[i],i)\n",
        "    for j in range(len(y)):\n",
        "      if(y[i]==y[j]):\n",
        "        if(i!=j):\n",
        "          if(not [i,j] in Q_index and not [j,i] in Q_index):\n",
        "            Q_index.append([i,j])\n",
        "\n",
        "  TP = [value for value in Q_index if value in P_index]\n",
        "  FP= P_index\n",
        "  FN =Q_index\n",
        "\n",
        "  for i in TP:\n",
        "    FP.remove(i)\n",
        "    FN.remove(i)\n",
        "\n",
        "  F_measure = (2*(len(TP)))/(2*(len(TP))+len(FP)+len(FN))\n",
        "  return F_measure"
      ]
    },
    {
      "cell_type": "markdown",
      "metadata": {
        "id": "JtY79k7pSaiA"
      },
      "source": [
        "# **Load Embedding**"
      ]
    },
    {
      "cell_type": "code",
      "execution_count": 4,
      "metadata": {
        "colab": {
          "base_uri": "https://localhost:8080/",
          "height": 229
        },
        "id": "REXjH0g3Fqis",
        "outputId": "b6fc4845-d434-4555-d972-2664bf6dba28"
      },
      "outputs": [
        {
          "output_type": "stream",
          "name": "stdout",
          "text": [
            "/usr/local/lib/python3.10/dist-packages/gdown/parse_url.py:44: UserWarning: You specified a Google Drive link that is not the correct link to download a file. You might want to try `--fuzzy` option or the following url: https://drive.google.com/uc?id=14nHmpZNm23FeeS81QpYJnYmiFPOVyRoO\n",
            "  warnings.warn(\n",
            "Downloading...\n",
            "From: https://drive.google.com/file/d/14nHmpZNm23FeeS81QpYJnYmiFPOVyRoO/view?usp=sharing&confirm=t\n",
            "To: /content/view?usp=sharing&confirm=t\n",
            "75.7kB [00:00, 556MB/s]\n"
          ]
        },
        {
          "output_type": "stream",
          "name": "stderr",
          "text": [
            "Downloading...\n",
            "From: https://drive.google.com/uc?id=14nHmpZNm23FeeS81QpYJnYmiFPOVyRoO\n",
            "To: /content/images449_RetinaNetResNet50_ArcFaceResNet100glint360k.pickle\n",
            "100%|██████████| 4.72M/4.72M [00:00<00:00, 176MB/s]\n"
          ]
        },
        {
          "output_type": "execute_result",
          "data": {
            "text/plain": [
              "'images449_RetinaNetResNet50_ArcFaceResNet100glint360k.pickle'"
            ],
            "application/vnd.google.colaboratory.intrinsic+json": {
              "type": "string"
            }
          },
          "metadata": {},
          "execution_count": 4
        }
      ],
      "source": [
        "!python3 -m gdown.cli \"https://drive.google.com/file/d/14nHmpZNm23FeeS81QpYJnYmiFPOVyRoO/view?usp=sharing&confirm=t\"\n",
        "\n",
        "output = 'images449_RetinaNetResNet50_ArcFaceResNet100glint360k.pickle'\n",
        "url = \"https://drive.google.com/file/d/14nHmpZNm23FeeS81QpYJnYmiFPOVyRoO/view?usp=sharing\"\n",
        "import gdown\n",
        "gdown.download(url=url, output=output, quiet=False, fuzzy=True)"
      ]
    },
    {
      "cell_type": "code",
      "execution_count": 5,
      "metadata": {
        "id": "wq4wl_eG-_j1"
      },
      "outputs": [],
      "source": [
        "with open('/content/images449_RetinaNetResNet50_ArcFaceResNet100glint360k.pickle', 'rb') as f:\n",
        "   Face_DataPoint = pickle.load(f)"
      ]
    },
    {
      "cell_type": "code",
      "execution_count": 6,
      "metadata": {
        "colab": {
          "base_uri": "https://localhost:8080/"
        },
        "id": "uzqq5HC327sJ",
        "outputId": "568e236c-9d08-4a76-fdad-b7f8777d4e3e"
      },
      "outputs": [
        {
          "output_type": "stream",
          "name": "stdout",
          "text": [
            "154\n",
            "dict_keys(['14', '16', '17', '11', '15', '10', '13', '12', '1', '18', '22', '2', '19', '21', '20', '23', '25', '26', '27', '24', '34', '29', '28', '3', '33', '32', '35', '36', '30', '31', '5', '40', '38', '9', '37', '8', '4', '39', '6', '7', '41', '42', '43', '44', '45', '46', '47', '48', '49', '50', '51', '52', '53', '54', '55', '56', '57', '58', '59', '60', '61', '62', '63', '64', '65', '66', '67', '68', '69', '70', '71', '72', '73', '74', '75', '76', '77', '78', '79', '80', '81', '82', '83', '84', '85', '86', '87', '88', '89', '90', '91', '92', '93', '94', '95', '96', '97', '98', '99', '100', '101', '102', '103', '104', '105', '106', '107', '108', '109', '110', '111', '112', '113', '114', '115', '116', '117', '118', '119', '120', '121', '122', '123', '124', '125', '126', '127', '128', '129', '130', '131', '132', '133', '134', '135', '136', '137', '138', '139', '140', '141', '142', '143', '144', '145', '146', '147', '148', '149', '150', '151', '152', '153', '154'])\n"
          ]
        }
      ],
      "source": [
        "print(len(Face_DataPoint.keys()))\n",
        "print((Face_DataPoint.keys()))\n"
      ]
    },
    {
      "cell_type": "code",
      "execution_count": 7,
      "metadata": {
        "colab": {
          "base_uri": "https://localhost:8080/"
        },
        "id": "IgfhJFqAbvGz",
        "outputId": "8d75a2d3-dcd2-4666-db36-0e3d9756f14d"
      },
      "outputs": [
        {
          "output_type": "stream",
          "name": "stdout",
          "text": [
            "(2226, 512)\n"
          ]
        }
      ],
      "source": [
        "x=[]\n",
        "for i in Face_DataPoint.keys():\n",
        "   for j in range(len(Face_DataPoint[i])):\n",
        "     x.append(Face_DataPoint[i][j])\n",
        "print(np.shape(x))\n",
        "x =np.reshape(x,(2226,512))\n",
        "# x is data"
      ]
    },
    {
      "cell_type": "code",
      "execution_count": 8,
      "metadata": {
        "colab": {
          "base_uri": "https://localhost:8080/"
        },
        "id": "5HnvAGoHhC0Z",
        "outputId": "ae1f157e-26aa-46f8-f535-6844a29aef30"
      },
      "outputs": [
        {
          "output_type": "stream",
          "name": "stdout",
          "text": [
            "2226\n",
            "['14', '14', '14', '14', '14', '14', '14', '14', '14', '14', '14', '14', '14', '14', '14', '14', '14', '14', '14', '14', '14', '14', '14', '14', '14', '14', '14', '14', '14', '14', '14', '14', '14', '14', '14', '14', '14', '14', '14', '14', '14', '14', '14', '14', '14', '14', '14', '14', '14', '14', '16', '16', '16', '16', '16', '16', '16', '16', '16', '16', '16', '16', '16', '16', '16', '16', '16', '16', '16', '16', '16', '16', '16', '16', '16', '16', '16', '16', '16', '16', '16', '16', '16', '16', '16', '16', '16', '16', '16', '16', '16', '16', '16', '16', '16', '16', '16', '16', '16', '16', '16', '16', '16', '16', '16', '16', '16', '16', '16', '17', '17', '17', '17', '17', '17', '17', '17', '17', '17', '17', '17', '11', '11', '11', '11', '11', '11', '11', '11', '11', '11', '11', '11', '11', '11', '11', '11', '11', '11', '11', '15', '15', '15', '15', '15', '15', '15', '15', '15', '15', '15', '15', '15', '15', '15', '15', '15', '15', '15', '15', '15', '15', '15', '15', '15', '15', '15', '15', '15', '15', '15', '15', '15', '15', '15', '15', '15', '15', '10', '10', '10', '10', '10', '10', '10', '10', '10', '10', '10', '10', '10', '13', '13', '13', '13', '13', '13', '13', '13', '13', '13', '13', '13', '13', '13', '13', '13', '12', '12', '12', '12', '12', '12', '12', '12', '12', '12', '12', '12', '12', '12', '12', '12', '12', '12', '1', '1', '1', '1', '1', '1', '1', '1', '1', '1', '1', '1', '1', '1', '1', '1', '1', '1', '1', '1', '1', '1', '1', '1', '1', '1', '1', '1', '1', '1', '1', '1', '1', '1', '1', '1', '1', '1', '1', '1', '1', '1', '1', '1', '1', '1', '1', '1', '1', '1', '1', '1', '1', '1', '1', '1', '1', '1', '1', '1', '1', '1', '1', '1', '1', '1', '1', '1', '1', '1', '1', '1', '1', '1', '1', '1', '1', '1', '1', '1', '1', '1', '1', '1', '1', '1', '1', '1', '1', '1', '1', '1', '1', '1', '1', '18', '18', '18', '18', '18', '18', '18', '18', '18', '18', '18', '18', '22', '22', '22', '22', '22', '22', '22', '22', '22', '22', '22', '22', '22', '22', '22', '22', '22', '22', '22', '22', '22', '22', '22', '22', '22', '2', '2', '2', '2', '2', '2', '2', '2', '2', '2', '2', '2', '2', '2', '2', '2', '2', '2', '2', '2', '2', '2', '2', '2', '2', '2', '2', '2', '2', '2', '2', '2', '2', '2', '2', '2', '2', '2', '2', '2', '2', '2', '2', '2', '2', '2', '2', '2', '2', '2', '2', '2', '2', '2', '2', '2', '2', '2', '2', '19', '19', '19', '19', '19', '19', '19', '19', '19', '19', '19', '19', '19', '19', '19', '19', '19', '19', '19', '19', '19', '19', '19', '19', '19', '19', '19', '19', '19', '19', '21', '21', '21', '21', '21', '21', '21', '21', '21', '21', '21', '21', '21', '21', '21', '21', '21', '21', '21', '21', '21', '20', '20', '20', '20', '20', '20', '20', '20', '20', '20', '20', '20', '20', '20', '20', '20', '20', '20', '20', '20', '20', '20', '20', '20', '20', '20', '20', '23', '23', '23', '23', '23', '23', '23', '23', '23', '23', '23', '23', '23', '23', '23', '23', '23', '23', '23', '23', '23', '23', '23', '23', '23', '23', '23', '23', '23', '23', '23', '23', '23', '25', '25', '25', '25', '25', '25', '25', '25', '25', '25', '25', '25', '25', '25', '25', '25', '25', '25', '25', '25', '25', '25', '25', '25', '25', '25', '25', '25', '25', '25', '25', '25', '25', '25', '25', '25', '25', '25', '25', '25', '26', '27', '24', '24', '24', '24', '24', '24', '24', '24', '24', '24', '24', '24', '24', '24', '24', '24', '24', '24', '24', '24', '34', '29', '28', '3', '3', '3', '3', '3', '3', '3', '3', '3', '3', '3', '3', '3', '3', '3', '3', '3', '3', '3', '3', '3', '3', '3', '3', '3', '3', '3', '3', '3', '3', '3', '3', '3', '3', '33', '35', '36', '30', '31', '5', '5', '5', '5', '5', '5', '5', '5', '5', '5', '5', '5', '5', '5', '5', '5', '5', '5', '5', '5', '5', '5', '5', '5', '5', '5', '5', '5', '5', '5', '5', '5', '5', '40', '38', '9', '9', '9', '9', '9', '9', '9', '9', '9', '9', '9', '9', '9', '9', '9', '9', '9', '9', '9', '9', '9', '9', '9', '9', '9', '9', '9', '9', '9', '9', '9', '9', '9', '9', '9', '9', '9', '9', '9', '9', '9', '9', '9', '9', '9', '9', '9', '9', '9', '9', '9', '9', '9', '9', '9', '9', '9', '9', '9', '9', '9', '9', '9', '9', '9', '9', '9', '9', '9', '9', '9', '9', '9', '9', '37', '8', '8', '8', '8', '8', '8', '8', '8', '8', '8', '8', '8', '8', '4', '4', '4', '4', '4', '4', '4', '4', '4', '4', '4', '4', '4', '4', '4', '4', '4', '4', '4', '4', '4', '4', '4', '4', '4', '4', '4', '4', '4', '4', '4', '39', '6', '6', '6', '6', '6', '6', '6', '6', '6', '6', '6', '6', '6', '6', '6', '6', '6', '6', '6', '6', '6', '6', '6', '6', '6', '6', '6', '6', '6', '6', '6', '6', '6', '6', '6', '6', '6', '6', '6', '6', '6', '6', '6', '6', '6', '6', '6', '6', '6', '6', '6', '6', '6', '6', '6', '6', '6', '6', '6', '6', '6', '6', '7', '7', '7', '7', '7', '7', '7', '7', '7', '7', '7', '7', '7', '7', '7', '7', '7', '7', '7', '7', '7', '7', '7', '7', '41', '41', '41', '41', '41', '41', '41', '41', '41', '41', '42', '42', '42', '42', '42', '42', '42', '42', '42', '42', '42', '42', '42', '42', '42', '42', '42', '42', '42', '42', '42', '42', '42', '42', '42', '42', '42', '42', '42', '42', '42', '42', '42', '42', '42', '42', '42', '42', '42', '43', '43', '43', '43', '43', '43', '43', '43', '43', '43', '43', '43', '43', '43', '43', '43', '43', '43', '43', '43', '43', '43', '44', '44', '44', '44', '44', '44', '45', '45', '45', '45', '45', '45', '45', '45', '46', '46', '46', '46', '46', '46', '46', '46', '46', '46', '47', '47', '48', '48', '48', '48', '48', '48', '48', '48', '48', '48', '48', '48', '48', '48', '48', '48', '48', '48', '48', '48', '48', '48', '48', '48', '48', '48', '48', '48', '48', '48', '48', '48', '48', '48', '49', '49', '49', '49', '49', '49', '49', '49', '49', '49', '49', '49', '49', '49', '49', '49', '49', '49', '49', '49', '49', '49', '49', '49', '49', '49', '49', '49', '49', '49', '49', '50', '50', '50', '50', '51', '51', '51', '51', '51', '51', '51', '51', '51', '51', '51', '51', '51', '51', '51', '51', '51', '51', '51', '51', '52', '52', '52', '52', '52', '52', '52', '52', '52', '52', '52', '52', '52', '52', '52', '52', '52', '52', '52', '52', '52', '52', '52', '52', '52', '52', '52', '52', '52', '52', '53', '53', '53', '53', '53', '53', '53', '53', '53', '53', '53', '53', '53', '53', '53', '53', '53', '53', '53', '53', '53', '53', '53', '53', '53', '53', '54', '54', '54', '54', '54', '54', '54', '54', '54', '54', '54', '54', '55', '55', '55', '55', '55', '55', '55', '55', '55', '55', '55', '55', '55', '55', '55', '55', '55', '55', '55', '55', '55', '55', '55', '55', '55', '55', '55', '55', '56', '56', '56', '56', '56', '56', '56', '56', '56', '56', '56', '56', '56', '56', '56', '56', '56', '56', '56', '56', '56', '56', '56', '56', '56', '56', '56', '56', '56', '56', '56', '56', '56', '56', '56', '56', '56', '56', '56', '57', '57', '57', '57', '57', '57', '57', '57', '57', '57', '57', '57', '57', '57', '57', '57', '57', '57', '57', '57', '57', '57', '57', '57', '57', '57', '58', '58', '58', '58', '58', '58', '58', '58', '58', '58', '58', '58', '58', '58', '58', '58', '58', '58', '58', '58', '58', '58', '58', '58', '58', '59', '59', '59', '59', '59', '59', '59', '59', '59', '59', '59', '59', '59', '59', '59', '59', '59', '59', '60', '60', '60', '60', '60', '60', '60', '60', '60', '60', '61', '61', '61', '61', '61', '61', '61', '61', '61', '61', '61', '61', '61', '61', '61', '61', '61', '61', '61', '61', '61', '61', '61', '61', '61', '61', '62', '62', '62', '62', '62', '62', '62', '62', '62', '62', '63', '63', '63', '63', '63', '63', '63', '63', '63', '63', '64', '64', '64', '64', '64', '64', '64', '64', '64', '65', '65', '65', '65', '65', '65', '65', '65', '65', '65', '66', '66', '67', '67', '67', '67', '67', '67', '67', '67', '67', '67', '68', '68', '68', '68', '68', '68', '68', '68', '68', '68', '68', '69', '69', '69', '69', '69', '69', '69', '69', '69', '69', '70', '70', '70', '70', '70', '70', '70', '70', '70', '70', '71', '71', '71', '71', '71', '71', '71', '71', '71', '71', '72', '72', '72', '72', '72', '72', '72', '72', '72', '72', '72', '72', '73', '73', '73', '73', '73', '73', '73', '73', '73', '73', '74', '74', '74', '74', '74', '74', '74', '74', '74', '74', '75', '75', '75', '75', '75', '75', '75', '75', '75', '75', '76', '76', '76', '76', '76', '76', '76', '76', '76', '76', '77', '77', '77', '77', '77', '77', '77', '77', '77', '77', '77', '77', '77', '77', '77', '77', '77', '77', '77', '77', '77', '77', '77', '78', '78', '78', '78', '78', '78', '78', '78', '78', '78', '78', '78', '78', '78', '78', '78', '78', '78', '78', '78', '78', '79', '79', '79', '79', '79', '79', '79', '79', '79', '79', '80', '80', '80', '80', '80', '80', '80', '80', '80', '80', '80', '81', '81', '81', '81', '81', '81', '81', '81', '81', '81', '82', '82', '82', '82', '82', '82', '82', '82', '82', '82', '83', '83', '83', '83', '83', '83', '83', '83', '83', '83', '84', '84', '84', '84', '84', '84', '84', '84', '84', '84', '85', '85', '85', '85', '85', '86', '86', '86', '86', '86', '86', '86', '86', '86', '86', '87', '87', '87', '87', '87', '87', '87', '87', '87', '87', '88', '88', '88', '88', '88', '88', '88', '88', '88', '88', '88', '88', '88', '88', '88', '88', '88', '88', '88', '88', '88', '89', '89', '89', '89', '89', '89', '89', '89', '89', '89', '90', '90', '90', '90', '90', '90', '90', '90', '90', '90', '90', '91', '91', '91', '91', '91', '91', '91', '91', '91', '91', '92', '92', '92', '92', '92', '92', '92', '92', '92', '92', '93', '93', '93', '93', '93', '93', '93', '93', '93', '93', '93', '94', '94', '94', '94', '94', '94', '94', '94', '94', '94', '94', '95', '95', '95', '95', '95', '95', '95', '95', '95', '95', '96', '96', '96', '96', '96', '96', '96', '96', '96', '96', '97', '97', '97', '97', '97', '97', '97', '97', '97', '98', '98', '98', '98', '98', '98', '99', '99', '99', '99', '99', '99', '99', '99', '99', '99', '99', '100', '100', '100', '100', '100', '100', '100', '100', '100', '100', '100', '100', '100', '100', '100', '100', '100', '100', '100', '100', '100', '100', '100', '100', '100', '100', '100', '101', '101', '101', '101', '102', '102', '102', '102', '102', '102', '103', '103', '103', '103', '103', '103', '104', '104', '104', '104', '104', '104', '105', '105', '105', '105', '105', '105', '105', '105', '105', '105', '105', '106', '106', '106', '106', '106', '106', '106', '107', '107', '107', '107', '107', '107', '107', '107', '108', '108', '108', '108', '108', '108', '108', '108', '108', '109', '109', '109', '109', '109', '109', '109', '109', '109', '110', '110', '110', '110', '111', '111', '111', '111', '111', '111', '111', '111', '111', '112', '112', '112', '112', '112', '112', '113', '113', '113', '113', '113', '113', '113', '114', '114', '114', '114', '114', '114', '114', '115', '115', '115', '115', '116', '116', '116', '116', '116', '116', '116', '116', '116', '117', '117', '117', '117', '118', '118', '118', '118', '119', '119', '119', '119', '120', '120', '120', '121', '121', '122', '122', '122', '122', '122', '122', '122', '123', '123', '124', '124', '125', '125', '126', '126', '127', '127', '127', '127', '127', '127', '128', '128', '128', '128', '128', '129', '129', '130', '130', '130', '131', '131', '132', '132', '132', '133', '133', '134', '134', '134', '135', '135', '135', '135', '135', '135', '135', '135', '136', '136', '136', '136', '136', '136', '136', '136', '136', '136', '136', '136', '136', '136', '136', '136', '136', '136', '137', '137', '137', '137', '137', '137', '137', '137', '137', '137', '137', '137', '137', '137', '137', '137', '137', '137', '137', '137', '137', '137', '138', '138', '138', '138', '138', '139', '139', '139', '139', '139', '139', '139', '140', '140', '140', '140', '140', '140', '140', '140', '141', '141', '141', '141', '142', '142', '142', '142', '142', '142', '142', '142', '142', '142', '142', '142', '142', '142', '142', '142', '142', '142', '143', '143', '143', '143', '143', '143', '143', '143', '144', '144', '144', '144', '144', '144', '144', '144', '144', '144', '145', '145', '145', '145', '145', '145', '145', '145', '145', '145', '145', '145', '145', '145', '145', '145', '145', '145', '146', '146', '146', '146', '146', '146', '146', '146', '146', '146', '146', '146', '146', '146', '146', '146', '146', '146', '146', '146', '146', '146', '146', '146', '146', '146', '146', '146', '147', '147', '147', '147', '147', '147', '147', '147', '147', '147', '147', '147', '147', '147', '147', '147', '147', '147', '147', '147', '147', '147', '147', '147', '147', '147', '147', '147', '147', '147', '147', '148', '148', '148', '148', '148', '148', '148', '148', '148', '149', '149', '149', '149', '149', '149', '149', '149', '149', '149', '149', '149', '149', '149', '149', '149', '149', '149', '149', '149', '149', '149', '149', '149', '149', '149', '149', '149', '149', '149', '149', '149', '149', '149', '149', '150', '150', '150', '150', '150', '150', '150', '150', '150', '150', '151', '151', '151', '151', '151', '151', '151', '151', '151', '151', '151', '151', '151', '151', '152', '152', '152', '152', '152', '152', '152', '152', '152', '152', '152', '152', '152', '152', '152', '152', '152', '152', '152', '152', '152', '152', '152', '152', '152', '153', '153', '153', '153', '153', '153', '153', '153', '153', '153', '153', '153', '153', '153', '153', '153', '153', '153', '153', '153', '153', '153', '153', '153', '153', '153', '153', '153', '153', '153', '153', '153', '153', '153', '153', '154', '154', '154', '154', '154', '154', '154', '154', '154', '154', '154', '154', '154', '154']\n"
          ]
        }
      ],
      "source": [
        "y_true=[]\n",
        "\n",
        "for i in Face_DataPoint.keys():\n",
        "  for j in range(len(Face_DataPoint[i])):\n",
        "      y_true.append(i)\n",
        "print(len(y_true))\n",
        "print((y_true))\n",
        "# y_true is label of data"
      ]
    },
    {
      "cell_type": "markdown",
      "metadata": {
        "id": "EB-nw9-OazoV"
      },
      "source": [
        "# **Clustring**"
      ]
    },
    {
      "cell_type": "markdown",
      "metadata": {
        "id": "gFVK5geJJj7J"
      },
      "source": [
        "## **HDBSCAN**"
      ]
    },
    {
      "cell_type": "code",
      "execution_count": 9,
      "metadata": {
        "colab": {
          "base_uri": "https://localhost:8080/"
        },
        "id": "8i3ORIPJJpzp",
        "outputId": "d196e78a-1cfc-415f-b762-fe6284290a14"
      },
      "outputs": [
        {
          "output_type": "stream",
          "name": "stdout",
          "text": [
            "Looking in indexes: https://pypi.org/simple, https://us-python.pkg.dev/colab-wheels/public/simple/\n",
            "Collecting hdbscan\n",
            "  Cloning https://github.com/scikit-learn-contrib/hdbscan.git to /tmp/pip-install-fln1sve7/hdbscan_2ea943ea7eb24a0d82c190a7728a61bd\n",
            "  Running command git clone --filter=blob:none --quiet https://github.com/scikit-learn-contrib/hdbscan.git /tmp/pip-install-fln1sve7/hdbscan_2ea943ea7eb24a0d82c190a7728a61bd\n",
            "  Resolved https://github.com/scikit-learn-contrib/hdbscan.git to commit e55f957441fa58c109971fb868a399b498578234\n",
            "  Installing build dependencies ... \u001b[?25l\u001b[?25hdone\n",
            "  Getting requirements to build wheel ... \u001b[?25l\u001b[?25hdone\n",
            "  Preparing metadata (pyproject.toml) ... \u001b[?25l\u001b[?25hdone\n",
            "Requirement already satisfied: cython>=0.27 in /usr/local/lib/python3.10/dist-packages (from hdbscan) (0.29.34)\n",
            "Requirement already satisfied: numpy>=1.20 in /usr/local/lib/python3.10/dist-packages (from hdbscan) (1.22.4)\n",
            "Requirement already satisfied: scipy>=1.0 in /usr/local/lib/python3.10/dist-packages (from hdbscan) (1.10.1)\n",
            "Requirement already satisfied: scikit-learn>=0.20 in /usr/local/lib/python3.10/dist-packages (from hdbscan) (1.2.2)\n",
            "Requirement already satisfied: joblib>=1.0 in /usr/local/lib/python3.10/dist-packages (from hdbscan) (1.2.0)\n",
            "Requirement already satisfied: threadpoolctl>=2.0.0 in /usr/local/lib/python3.10/dist-packages (from scikit-learn>=0.20->hdbscan) (3.1.0)\n",
            "Building wheels for collected packages: hdbscan\n",
            "  Building wheel for hdbscan (pyproject.toml) ... \u001b[?25l\u001b[?25hdone\n",
            "  Created wheel for hdbscan: filename=hdbscan-0.8.29-cp310-cp310-linux_x86_64.whl size=3541958 sha256=6805031af741a51aa7bd9a6c78c88b4fbe13fd4d88438dbc96afd21f323d772b\n",
            "  Stored in directory: /tmp/pip-ephem-wheel-cache-gip295t3/wheels/dd/9a/ab/564a6c3e58f76c492ab1104d636e794e2fe7b879ba02e344d2\n",
            "Successfully built hdbscan\n",
            "Installing collected packages: hdbscan\n",
            "Successfully installed hdbscan-0.8.29\n"
          ]
        }
      ],
      "source": [
        "!pip install --upgrade git+https://github.com/scikit-learn-contrib/hdbscan.git#egg=hdbscan\n"
      ]
    },
    {
      "cell_type": "markdown",
      "source": [
        "Step 1."
      ],
      "metadata": {
        "id": "gZCp7wQe3ai5"
      }
    },
    {
      "cell_type": "code",
      "source": [
        "import hdbscan\n",
        "\n",
        "hyperparameter_combinations = [\n",
        "    {'min_cluster_size': 5, 'min_samples': 1 , 'cluster_selection_epsilon': 0.3},\n",
        "    {'min_cluster_size': 5, 'min_samples': 1 , 'cluster_selection_epsilon': 0.5},\n",
        "    {'min_cluster_size': 5, 'min_samples': 2, 'cluster_selection_epsilon': 0.3},\n",
        "    {'min_cluster_size': 5, 'min_samples': 2, 'cluster_selection_epsilon': 0.5},\n",
        "    {'min_cluster_size': 5, 'min_samples': 3 , 'cluster_selection_epsilon': 0.3},\n",
        "    {'min_cluster_size': 5, 'min_samples': 3 , 'cluster_selection_epsilon': 0.5},\n",
        "    {'min_cluster_size': 5, 'min_samples': 4, 'cluster_selection_epsilon': 0.3},\n",
        "    {'min_cluster_size': 5, 'min_samples': 4, 'cluster_selection_epsilon': 0.5},\n",
        "    {'min_cluster_size': 5, 'min_samples': 5, 'cluster_selection_epsilon': 0.3},\n",
        "    {'min_cluster_size': 5, 'min_samples': 5, 'cluster_selection_epsilon': 0.5},\n",
        "    {'min_cluster_size': 5, 'min_samples': 6, 'cluster_selection_epsilon': 0.3},\n",
        "    {'min_cluster_size': 5, 'min_samples': 6, 'cluster_selection_epsilon': 0.5},\n",
        "    {'min_cluster_size': 5, 'min_samples': 7, 'cluster_selection_epsilon': 0.3},\n",
        "    {'min_cluster_size': 5, 'min_samples': 7, 'cluster_selection_epsilon': 0.5},\n",
        "    {'min_cluster_size': 5, 'min_samples': 8, 'cluster_selection_epsilon': 0.3},\n",
        "    {'min_cluster_size': 5, 'min_samples': 8, 'cluster_selection_epsilon': 0.5},\n",
        "    {'min_cluster_size': 10, 'min_samples': 9, 'cluster_selection_epsilon': 0.3},\n",
        "    {'min_cluster_size': 10, 'min_samples': 10, 'cluster_selection_epsilon': 0.3},\n",
        "    {'min_cluster_size': 10, 'min_samples': 11, 'cluster_selection_epsilon': 0.5},\n",
        "    {'min_cluster_size': 10, 'min_samples': 12, 'cluster_selection_epsilon': 0.5},\n",
        "    {'min_cluster_size': 15, 'min_samples': 13, 'cluster_selection_epsilon': 0.3},\n",
        "    {'min_cluster_size': 15, 'min_samples': 14, 'cluster_selection_epsilon': 0.5},\n",
        "    \n",
        "]\n",
        "\n",
        "best_nmi = -1\n",
        "best_f1 = -1\n",
        "best_hyperparameters = None\n",
        "\n",
        "for hyperparameters in hyperparameter_combinations:\n",
        "    clusterer = hdbscan.HDBSCAN(**hyperparameters)\n",
        "    \n",
        "    clusterer.fit(x)\n",
        "    y_pred = clusterer.labels_\n",
        "    \n",
        "    nmi = normalized_mutual_info_score(y_true, y_pred)\n",
        "    \n",
        "    if nmi > best_nmi :\n",
        "        best_nmi = nmi\n",
        "        best_hyperparameters = hyperparameters\n",
        "\n",
        "print(\"Best Hyperparameters:\", best_hyperparameters)\n",
        "print(\"NMI:\", best_nmi)\n",
        "\n",
        "# we sepreated F1 , NMI calculation because F_score func is too slow!\n",
        "clusterer = hdbscan.HDBSCAN(**best_hyperparameters)\n",
        "clusterer.fit(x)\n",
        "y_pred = clusterer.labels_\n",
        "best_f1 = F_score(y_pred, y_true)\n",
        "print(\"F1_score:\", best_f1)\n"
      ],
      "metadata": {
        "colab": {
          "base_uri": "https://localhost:8080/"
        },
        "id": "kmHr3dM425xK",
        "outputId": "26d30d12-4250-4088-8e24-66703c870653"
      },
      "execution_count": 31,
      "outputs": [
        {
          "output_type": "stream",
          "name": "stdout",
          "text": [
            "Best Hyperparameters: {'min_cluster_size': 5, 'min_samples': 5, 'cluster_selection_epsilon': 0.3}\n",
            "NMI: 0.9260349179413887\n",
            "F1_score: 0.6303800042938338\n"
          ]
        }
      ]
    },
    {
      "cell_type": "markdown",
      "source": [
        "Step 2,3,4"
      ],
      "metadata": {
        "id": "znlgSsL7Br6O"
      }
    },
    {
      "cell_type": "code",
      "source": [
        "highest_nmi = -1\n",
        "highest_f1 = -1\n",
        "counter = 0\n",
        "hyperparameters = {'min_cluster_size': 2, 'min_samples': 1 , 'cluster_selection_epsilon': 0.2}\n",
        "\n",
        "noisy_data = x[y_pred == -1]\n",
        "lowest_minus_1 = len(noisy_data)\n",
        "print(\"Current Amount of -1 Labels:\", lowest_minus_1)\n",
        "y_pred_temp=None\n",
        "while True:\n",
        "    noisy_data = x[y_pred == -1]\n",
        "    noisy_clusterer = hdbscan.HDBSCAN(**hyperparameters)\n",
        "    noisy_clusterer.fit(noisy_data)\n",
        "    noisy_labels = noisy_clusterer.labels_\n",
        "    y_pred_temp = y_pred\n",
        "    y_pred_temp[y_pred_temp == -1] = noisy_labels\n",
        "    \n",
        "    final_nmi = normalized_mutual_info_score(y_true, y_pred_temp)\n",
        "    if final_nmi > highest_nmi and len(noisy_labels[noisy_labels == -1]) <= lowest_minus_1 :\n",
        "        lowest_minus_1 = len(noisy_labels[noisy_labels == -1])\n",
        "        highest_nmi = final_nmi\n",
        "        final_y_pred = y_pred_temp\n",
        "        best_hyperparameters = hyperparameters\n",
        "    \n",
        "    if len(noisy_labels[noisy_labels == -1]) >= lowest_minus_1 :\n",
        "        break\n",
        "    \n",
        "    # set hyperparameters for next iteration\n",
        "    if counter % 2 == 0:\n",
        "      hyperparameters['min_samples'] = hyperparameters['min_cluster_size'] -1\n",
        "      hyperparameters['cluster_selection_epsilon'] = 0.3\n",
        "\n",
        "    else:\n",
        "      hyperparameters['min_cluster_size'] +=1\n",
        "      hyperparameters['min_samples'] = hyperparameters['min_cluster_size']\n",
        "      hyperparameters['cluster_selection_epsilon'] = 0.2\n",
        "    \n",
        "    counter += 1\n",
        "\n",
        "\n",
        "\n",
        "print(\"Best Results After Iterative Improvement:\")\n",
        "print(\"Best Hyperparameters:\", hyperparameters)\n",
        "print(\"Final NMI:\", highest_nmi)\n",
        "print(\"Lowest Amount of -1 Labels:\", lowest_minus_1)\n",
        "\n",
        "highest_f1 = F_score(final_y_pred,y_true)\n",
        "print(\"Final F1_score:\", highest_f1)\n"
      ],
      "metadata": {
        "colab": {
          "base_uri": "https://localhost:8080/"
        },
        "id": "Y5n-KYTYBNcu",
        "outputId": "affcd00d-4637-4146-c23a-4d88fedd1bd2"
      },
      "execution_count": 32,
      "outputs": [
        {
          "output_type": "stream",
          "name": "stdout",
          "text": [
            "Current Amount of -1 Labels: 242\n",
            "Best Results After Iterative Improvement:\n",
            "Best Hyperparameters: {'min_cluster_size': 2, 'min_samples': 1, 'cluster_selection_epsilon': 0.2}\n",
            "Final NMI: 0.9340279236658248\n",
            "Lowest Amount of -1 Labels: 55\n",
            "Final F1_score: 0.8563667970447632\n"
          ]
        }
      ]
    },
    {
      "cell_type": "markdown",
      "source": [
        "## *AGGLOMERATIVE*"
      ],
      "metadata": {
        "id": "5XjwRDMWyhRQ"
      }
    },
    {
      "cell_type": "code",
      "source": [
        "from sklearn.cluster import AgglomerativeClustering\n",
        "from sklearn.metrics import normalized_mutual_info_score, f1_score\n",
        "\n",
        "linkage_methods = ['ward', 'complete', 'average','single']\n",
        "n_clusters_range = range(153,155) \n",
        "\n",
        "best_nmi = -1\n",
        "best_f1 = -1\n",
        "best_hyperparameters = None\n",
        "\n",
        "for linkage_method in linkage_methods:\n",
        "    for n_clusters in n_clusters_range:\n",
        "        clustering = AgglomerativeClustering(n_clusters=n_clusters, linkage=linkage_method)\n",
        "        \n",
        "        y_pred = clustering.fit_predict(x)\n",
        "        \n",
        "        nmi = normalized_mutual_info_score(y_true, y_pred)\n",
        "\n",
        "        if nmi > best_nmi :\n",
        "            best_nmi = nmi\n",
        "            best_hyperparameters = {'linkage': linkage_method, 'n_clusters': n_clusters}\n",
        "\n",
        "\n",
        "print(\"Best Hyperparameters:\", best_hyperparameters)\n",
        "print(\"NMI:\", best_nmi)\n",
        "\n",
        "# we sepreated F1 , NMI calculation because F_score func is too slow!\n",
        "clustering = AgglomerativeClustering(**best_hyperparameters)\n",
        "y_pred = clustering.fit_predict(x)\n",
        "best_f1 = F_score(y_pred, y_true)\n",
        "print(\"F1_score:\", best_f1)"
      ],
      "metadata": {
        "id": "SZ2f33D_ytez",
        "colab": {
          "base_uri": "https://localhost:8080/"
        },
        "outputId": "9d9975af-e698-4181-f7e3-9980fcd52782"
      },
      "execution_count": null,
      "outputs": [
        {
          "output_type": "stream",
          "name": "stdout",
          "text": [
            "Best Hyperparameters: {'linkage': 'average', 'n_clusters': 154}\n",
            "NMI: 0.9572809199759125\n",
            "F1_score: 0.8811623035071061\n"
          ]
        }
      ]
    },
    {
      "cell_type": "code",
      "source": [
        "noisy_data = x[y_pred == -1]\n",
        "print(len(noisy_data))"
      ],
      "metadata": {
        "colab": {
          "base_uri": "https://localhost:8080/"
        },
        "id": "AfASpFt8PW3t",
        "outputId": "0dde3e12-e221-48cc-90db-3ab040f5f9af"
      },
      "execution_count": null,
      "outputs": [
        {
          "output_type": "stream",
          "name": "stdout",
          "text": [
            "0\n"
          ]
        }
      ]
    }
  ],
  "metadata": {
    "colab": {
      "provenance": [],
      "gpuType": "T4"
    },
    "kernelspec": {
      "display_name": "Python 3",
      "name": "python3"
    },
    "language_info": {
      "codemirror_mode": {
        "name": "ipython",
        "version": 3
      },
      "file_extension": ".py",
      "mimetype": "text/x-python",
      "name": "python",
      "nbconvert_exporter": "python",
      "pygments_lexer": "ipython3",
      "version": "3.9.7"
    },
    "accelerator": "GPU"
  },
  "nbformat": 4,
  "nbformat_minor": 0
}